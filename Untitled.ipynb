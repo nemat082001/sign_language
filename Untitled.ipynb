{
 "cells": [
  {
   "cell_type": "code",
   "execution_count": 1,
   "id": "c393f812-d3c6-44c3-b302-a2ceb87f9651",
   "metadata": {},
   "outputs": [
    {
     "ename": "ModuleNotFoundError",
     "evalue": "No module named 'mediapipe'",
     "output_type": "error",
     "traceback": [
      "\u001b[1;31m---------------------------------------------------------------------------\u001b[0m",
      "\u001b[1;31mModuleNotFoundError\u001b[0m                       Traceback (most recent call last)",
      "Cell \u001b[1;32mIn[1], line 1\u001b[0m\n\u001b[1;32m----> 1\u001b[0m \u001b[38;5;28;01mimport\u001b[39;00m \u001b[38;5;21;01mmediapipe\u001b[39;00m \u001b[38;5;28;01mas\u001b[39;00m \u001b[38;5;21;01mmp\u001b[39;00m\n",
      "\u001b[1;31mModuleNotFoundError\u001b[0m: No module named 'mediapipe'"
     ]
    }
   ],
   "source": [
    "import mediapipe as mp\n"
   ]
  },
  {
   "cell_type": "code",
   "execution_count": 2,
   "id": "8234705c-bfe8-424d-aba6-920742bb16d2",
   "metadata": {},
   "outputs": [
    {
     "name": "stdout",
     "output_type": "stream",
     "text": [
      "Requirement already satisfied: mediapipe in c:\\users\\munna\\anaconda3_\\envs\\sign\\lib\\site-packages (0.10.14)\n",
      "Requirement already satisfied: absl-py in c:\\users\\munna\\anaconda3_\\envs\\sign\\lib\\site-packages (from mediapipe) (2.1.0)\n",
      "Requirement already satisfied: attrs>=19.1.0 in c:\\users\\munna\\anaconda3_\\envs\\sign\\lib\\site-packages (from mediapipe) (23.2.0)\n",
      "Requirement already satisfied: flatbuffers>=2.0 in c:\\users\\munna\\anaconda3_\\envs\\sign\\lib\\site-packages (from mediapipe) (24.3.25)\n",
      "Requirement already satisfied: jax in c:\\users\\munna\\anaconda3_\\envs\\sign\\lib\\site-packages (from mediapipe) (0.4.30)\n",
      "Requirement already satisfied: jaxlib in c:\\users\\munna\\anaconda3_\\envs\\sign\\lib\\site-packages (from mediapipe) (0.4.30)\n",
      "Requirement already satisfied: matplotlib in c:\\users\\munna\\anaconda3_\\envs\\sign\\lib\\site-packages (from mediapipe) (3.9.0)\n",
      "Requirement already satisfied: numpy in c:\\users\\munna\\anaconda3_\\envs\\sign\\lib\\site-packages (from mediapipe) (1.26.4)\n",
      "Requirement already satisfied: opencv-contrib-python in c:\\users\\munna\\anaconda3_\\envs\\sign\\lib\\site-packages (from mediapipe) (4.10.0.84)\n",
      "Requirement already satisfied: protobuf<5,>=4.25.3 in c:\\users\\munna\\anaconda3_\\envs\\sign\\lib\\site-packages (from mediapipe) (4.25.3)\n",
      "Requirement already satisfied: sounddevice>=0.4.4 in c:\\users\\munna\\anaconda3_\\envs\\sign\\lib\\site-packages (from mediapipe) (0.4.7)\n",
      "Requirement already satisfied: CFFI>=1.0 in c:\\users\\munna\\anaconda3_\\envs\\sign\\lib\\site-packages (from sounddevice>=0.4.4->mediapipe) (1.16.0)\n",
      "Requirement already satisfied: ml-dtypes>=0.2.0 in c:\\users\\munna\\anaconda3_\\envs\\sign\\lib\\site-packages (from jax->mediapipe) (0.3.2)\n",
      "Requirement already satisfied: opt-einsum in c:\\users\\munna\\anaconda3_\\envs\\sign\\lib\\site-packages (from jax->mediapipe) (3.3.0)\n",
      "Requirement already satisfied: scipy>=1.9 in c:\\users\\munna\\anaconda3_\\envs\\sign\\lib\\site-packages (from jax->mediapipe) (1.14.0)\n",
      "Requirement already satisfied: contourpy>=1.0.1 in c:\\users\\munna\\anaconda3_\\envs\\sign\\lib\\site-packages (from matplotlib->mediapipe) (1.2.1)\n",
      "Requirement already satisfied: cycler>=0.10 in c:\\users\\munna\\anaconda3_\\envs\\sign\\lib\\site-packages (from matplotlib->mediapipe) (0.12.1)\n",
      "Requirement already satisfied: fonttools>=4.22.0 in c:\\users\\munna\\anaconda3_\\envs\\sign\\lib\\site-packages (from matplotlib->mediapipe) (4.53.0)\n",
      "Requirement already satisfied: kiwisolver>=1.3.1 in c:\\users\\munna\\anaconda3_\\envs\\sign\\lib\\site-packages (from matplotlib->mediapipe) (1.4.5)\n",
      "Requirement already satisfied: packaging>=20.0 in c:\\users\\munna\\anaconda3_\\envs\\sign\\lib\\site-packages (from matplotlib->mediapipe) (24.1)\n",
      "Requirement already satisfied: pillow>=8 in c:\\users\\munna\\anaconda3_\\envs\\sign\\lib\\site-packages (from matplotlib->mediapipe) (10.3.0)\n",
      "Requirement already satisfied: pyparsing>=2.3.1 in c:\\users\\munna\\anaconda3_\\envs\\sign\\lib\\site-packages (from matplotlib->mediapipe) (3.1.2)\n",
      "Requirement already satisfied: python-dateutil>=2.7 in c:\\users\\munna\\anaconda3_\\envs\\sign\\lib\\site-packages (from matplotlib->mediapipe) (2.9.0.post0)\n",
      "Requirement already satisfied: pycparser in c:\\users\\munna\\anaconda3_\\envs\\sign\\lib\\site-packages (from CFFI>=1.0->sounddevice>=0.4.4->mediapipe) (2.22)\n",
      "Requirement already satisfied: six>=1.5 in c:\\users\\munna\\anaconda3_\\envs\\sign\\lib\\site-packages (from python-dateutil>=2.7->matplotlib->mediapipe) (1.16.0)\n"
     ]
    }
   ],
   "source": [
    "!pip install mediapipe\n"
   ]
  },
  {
   "cell_type": "code",
   "execution_count": 3,
   "id": "84fa7150-983c-4e6a-b3af-390310f5983f",
   "metadata": {},
   "outputs": [
    {
     "name": "stdout",
     "output_type": "stream",
     "text": [
      "Package                 Version\n",
      "----------------------- -----------\n",
      "absl-py                 2.1.0\n",
      "astunparse              1.6.3\n",
      "attrs                   23.2.0\n",
      "certifi                 2024.6.2\n",
      "cffi                    1.16.0\n",
      "charset-normalizer      3.3.2\n",
      "contourpy               1.2.1\n",
      "cycler                  0.12.1\n",
      "flatbuffers             24.3.25\n",
      "fonttools               4.53.0\n",
      "gast                    0.6.0\n",
      "google-pasta            0.2.0\n",
      "grpcio                  1.64.1\n",
      "h5py                    3.11.0\n",
      "idna                    3.7\n",
      "jax                     0.4.30\n",
      "jaxlib                  0.4.30\n",
      "joblib                  1.4.2\n",
      "keras                   3.4.1\n",
      "kiwisolver              1.4.5\n",
      "libclang                18.1.1\n",
      "Markdown                3.6\n",
      "markdown-it-py          3.0.0\n",
      "MarkupSafe              2.1.5\n",
      "matplotlib              3.9.0\n",
      "mdurl                   0.1.2\n",
      "mediapipe               0.10.14\n",
      "ml-dtypes               0.3.2\n",
      "namex                   0.0.8\n",
      "numpy                   1.26.4\n",
      "opencv-contrib-python   4.10.0.84\n",
      "opencv-python           4.10.0.84\n",
      "opt-einsum              3.3.0\n",
      "optree                  0.11.0\n",
      "packaging               24.1\n",
      "pillow                  10.3.0\n",
      "pip                     24.0\n",
      "protobuf                4.25.3\n",
      "pycparser               2.22\n",
      "Pygments                2.18.0\n",
      "pyparsing               3.1.2\n",
      "python-dateutil         2.9.0.post0\n",
      "requests                2.32.3\n",
      "rich                    13.7.1\n",
      "scikit-learn            1.5.0\n",
      "scipy                   1.14.0\n",
      "setuptools              69.5.1\n",
      "six                     1.16.0\n",
      "sounddevice             0.4.7\n",
      "tensorboard             2.16.2\n",
      "tensorboard-data-server 0.7.2\n",
      "tensorflow              2.16.1\n",
      "tensorflow-intel        2.16.1\n",
      "termcolor               2.4.0\n",
      "threadpoolctl           3.5.0\n",
      "typing_extensions       4.12.2\n",
      "urllib3                 2.2.2\n",
      "Werkzeug                3.0.3\n",
      "wheel                   0.43.0\n",
      "wrapt                   1.16.0\n"
     ]
    }
   ],
   "source": [
    "!pip list\n"
   ]
  },
  {
   "cell_type": "code",
   "execution_count": null,
   "id": "947a2600-1b37-4813-93d1-00fbc8c0d39a",
   "metadata": {},
   "outputs": [],
   "source": []
  }
 ],
 "metadata": {
  "kernelspec": {
   "display_name": "Python 3 (ipykernel)",
   "language": "python",
   "name": "python3"
  },
  "language_info": {
   "codemirror_mode": {
    "name": "ipython",
    "version": 3
   },
   "file_extension": ".py",
   "mimetype": "text/x-python",
   "name": "python",
   "nbconvert_exporter": "python",
   "pygments_lexer": "ipython3",
   "version": "3.12.4"
  }
 },
 "nbformat": 4,
 "nbformat_minor": 5
}
